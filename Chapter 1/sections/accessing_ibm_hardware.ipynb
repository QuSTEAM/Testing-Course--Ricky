{
 "cells": [
  {
   "cell_type": "code",
   "execution_count": 1,
   "id": "f33b760e",
   "metadata": {},
   "outputs": [],
   "source": [
    "from qiskit_ibm_runtime import QiskitRuntimeService\n",
    "from qiskit_ibm_provider import IBMProvider\n",
    "service = QiskitRuntimeService(channel=\"ibm_quantum\")\n",
    "backend = service.get_backend(\"ibmq_jakarta\")"
   ]
  },
  {
   "cell_type": "code",
   "execution_count": 2,
   "id": "619d7a9b",
   "metadata": {},
   "outputs": [],
   "source": [
    "from qiskit import QuantumCircuit, transpile\n",
    "\n",
    "bell = QuantumCircuit(2)\n",
    "bell.h(0)\n",
    "bell.cx(0,1)\n",
    "bell.measure_all()\n",
    "bell = transpile(bell, backend)"
   ]
  },
  {
   "cell_type": "markdown",
   "id": "9b13d06c",
   "metadata": {},
   "source": [
    "## Set a max execution time with circuit-runner"
   ]
  },
  {
   "cell_type": "code",
   "execution_count": 7,
   "id": "f09a5910",
   "metadata": {},
   "outputs": [
    {
     "name": "stdout",
     "output_type": "stream",
     "text": [
      "ch1tihol1tcq36l127u0\n",
      "JobStatus.QUEUED\n"
     ]
    }
   ],
   "source": [
    "options = {\"backend_name\": 'ibmq_jakarta', \n",
    "           \"max_execution_time\":300,\n",
    "           \"instance\":'ibm-q-startup/qbraid/main'}\n",
    "\n",
    "runtime_inputs = {\n",
    "    'circuits': bell, \n",
    "    'shots': 4000, \n",
    "}\n",
    "\n",
    "job = service.run(\n",
    "    program_id='circuit-runner',\n",
    "    options=options,\n",
    "    inputs=runtime_inputs,\n",
    ")\n",
    "\n",
    "# Job id\n",
    "print(job.job_id())\n",
    "# See job status\n",
    "print(job.status())"
   ]
  },
  {
   "cell_type": "markdown",
   "id": "69bb68c5",
   "metadata": {},
   "source": [
    "## Set a max execution time with a primitive \n",
    "\n",
    "The example is with the Sampler, the settings of the max execution time would be the exact same for the Estimator."
   ]
  },
  {
   "cell_type": "code",
   "execution_count": null,
   "id": "14f359a1",
   "metadata": {},
   "outputs": [],
   "source": [
    "from qiskit_ibm_runtime import Options\n",
    "\n",
    "options = Options(max_execution_time=300)"
   ]
  },
  {
   "cell_type": "code",
   "execution_count": null,
   "id": "a6160b30",
   "metadata": {},
   "outputs": [],
   "source": [
    "from qiskit_ibm_runtime import Sampler\n",
    "\n",
    "sampler = Sampler(session=backend, options=options)"
   ]
  },
  {
   "cell_type": "code",
   "execution_count": null,
   "id": "b1a33d40",
   "metadata": {},
   "outputs": [],
   "source": [
    "job = sampler.run(bell)\n",
    "print(f\">>> Job ID: {job.job_id()}\")\n",
    "print(f\">>> Job Status: {job.status()}\")\n"
   ]
  },
  {
   "cell_type": "markdown",
   "id": "87f3d9b7",
   "metadata": {},
   "source": [
    "### Retrieve a job from IBMProvider"
   ]
  },
  {
   "cell_type": "code",
   "execution_count": null,
   "id": "3bc1bf0a",
   "metadata": {},
   "outputs": [],
   "source": [
    "provider = IBMProvider(instance='ibm-q/open/main')\n",
    "jobs = provider.jobs()\n",
    "backend  =  provider.get_backend(\"ibmq_lima\")\n",
    "job = backend.run(bell, shots=4000,)\n"
   ]
  },
  {
   "cell_type": "code",
   "execution_count": null,
   "id": "bcfa55bb",
   "metadata": {},
   "outputs": [],
   "source": [
    "# Run the circuit on a backend then cancel it\n",
    "backend = provider.get_backend(\"ibmq_belem\")\n",
    "job = backend.run(bell)\n",
    "job.cancel()"
   ]
  }
 ],
 "metadata": {
  "kernelspec": {
   "display_name": "Python 3 [Braket]",
   "language": "python",
   "name": "python3_aws_braket_kwx6dl"
  },
  "language_info": {
   "codemirror_mode": {
    "name": "ipython",
    "version": 3
   },
   "file_extension": ".py",
   "mimetype": "text/x-python",
   "name": "python",
   "nbconvert_exporter": "python",
   "pygments_lexer": "ipython3",
   "version": "3.9.18"
  }
 },
 "nbformat": 4,
 "nbformat_minor": 5
}
