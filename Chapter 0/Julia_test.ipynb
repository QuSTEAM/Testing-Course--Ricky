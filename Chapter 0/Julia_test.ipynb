{
 "cells": [
  {
   "cell_type": "code",
   "execution_count": 2,
   "id": "4b27c45a-28fc-4149-947d-12449558cf27",
   "metadata": {},
   "outputs": [],
   "source": [
    "using Pkg"
   ]
  },
  {
   "cell_type": "code",
   "execution_count": 7,
   "id": "388bef7b-c760-4f11-b845-a908a44ba0d1",
   "metadata": {},
   "outputs": [
    {
     "data": {
      "text/html": [
       "<iframe src='https://videos.sproutvideo.com/embed/d39fdab71d1de8cf5a/505517e900e8ccc1?playerColor=2f3437&playerTheme=dark&type=hd' width=\"560\" height=\"315\" frameborder='0' class='sproutvideo-player' allowfullscreen allow='autoplay' referrerpolicy='no-referrer-when-downgrade' title='Video Player'></iframe>\n"
      ],
      "text/plain": [
       "HTML{String}(\"<iframe src='https://videos.sproutvideo.com/embed/d39fdab71d1de8cf5a/505517e900e8ccc1?playerColor=2f3437&playerTheme=dark&type=hd' width=\\\"560\\\" height=\\\"315\\\" frameborder='0' class='sproutvideo-player' allowfullscreen allow='autoplay' referrerpolicy='no-referrer-when-downgrade' title='Video Player'></iframe>\\n\")"
      ]
     },
     "execution_count": 7,
     "metadata": {},
     "output_type": "execute_result"
    }
   ],
   "source": [
    "HTML(\"\"\"\n",
    "<iframe src='https://videos.sproutvideo.com/embed/d39fdab71d1de8cf5a/505517e900e8ccc1?playerColor=2f3437&playerTheme=dark&type=hd' width=\"560\" height=\"315\" frameborder='0' class='sproutvideo-player' allowfullscreen allow='autoplay' referrerpolicy='no-referrer-when-downgrade' title='Video Player'></iframe>\n",
    "\"\"\")"
   ]
  },
  {
   "cell_type": "code",
   "execution_count": 8,
   "id": "3fb8b66b-8a60-4c9b-bd63-95e1cfe3cdb5",
   "metadata": {},
   "outputs": [],
   "source": [
    "using IJulia"
   ]
  },
  {
   "cell_type": "code",
   "execution_count": 1,
   "id": "cbf1b637-600e-4120-9ed9-4e033c393521",
   "metadata": {},
   "outputs": [
    {
     "ename": "LoadError",
     "evalue": "ArgumentError: Package IJuliaPortrayals not found in current path.\n- Run `import Pkg; Pkg.add(\"IJuliaPortrayals\")` to install the IJuliaPortrayals package.",
     "output_type": "error",
     "traceback": [
      "ArgumentError: Package IJuliaPortrayals not found in current path.\n- Run `import Pkg; Pkg.add(\"IJuliaPortrayals\")` to install the IJuliaPortrayals package.",
      "",
      "Stacktrace:",
      " [1] macro expansion",
      "   @ ./loading.jl:1630 [inlined]",
      " [2] macro expansion",
      "   @ ./lock.jl:267 [inlined]",
      " [3] require(into::Module, mod::Symbol)",
      "   @ Base ./loading.jl:1611"
     ]
    }
   ],
   "source": [
    "using IJuliaPortrayals"
   ]
  },
  {
   "cell_type": "code",
   "execution_count": 10,
   "id": "e0ca169b-0a08-4b81-8a11-e9129a2005bf",
   "metadata": {},
   "outputs": [
    {
     "name": "stderr",
     "output_type": "stream",
     "text": [
      "\u001b[32m\u001b[1m    Updating\u001b[22m\u001b[39m registry at `/opt/.julia/registries/General.toml`\n"
     ]
    },
    {
     "ename": "LoadError",
     "evalue": "The following package names could not be resolved:\n * IJuliaPortrayals (not found in project, manifest or registry)",
     "output_type": "error",
     "traceback": [
      "The following package names could not be resolved:\n * IJuliaPortrayals (not found in project, manifest or registry)",
      "",
      "Stacktrace:",
      "  [1] pkgerror(msg::String)",
      "    @ Pkg.Types /opt/julia-1.9.1/share/julia/stdlib/v1.9/Pkg/src/Types.jl:69",
      "  [2] ensure_resolved(ctx::Pkg.Types.Context, manifest::Pkg.Types.Manifest, pkgs::Vector{Pkg.Types.PackageSpec}; registry::Bool)",
      "    @ Pkg.Types /opt/julia-1.9.1/share/julia/stdlib/v1.9/Pkg/src/Types.jl:995",
      "  [3] ensure_resolved",
      "    @ /opt/julia-1.9.1/share/julia/stdlib/v1.9/Pkg/src/Types.jl:946 [inlined]",
      "  [4] add(ctx::Pkg.Types.Context, pkgs::Vector{Pkg.Types.PackageSpec}; preserve::Pkg.Types.PreserveLevel, platform::Base.BinaryPlatforms.Platform, kwargs::Base.Pairs{Symbol, IJulia.IJuliaStdio{Base.PipeEndpoint}, Tuple{Symbol}, NamedTuple{(:io,), Tuple{IJulia.IJuliaStdio{Base.PipeEndpoint}}}})",
      "    @ Pkg.API /opt/julia-1.9.1/share/julia/stdlib/v1.9/Pkg/src/API.jl:264",
      "  [5] add(pkgs::Vector{Pkg.Types.PackageSpec}; io::IJulia.IJuliaStdio{Base.PipeEndpoint}, kwargs::Base.Pairs{Symbol, Union{}, Tuple{}, NamedTuple{(), Tuple{}}})",
      "    @ Pkg.API /opt/julia-1.9.1/share/julia/stdlib/v1.9/Pkg/src/API.jl:156",
      "  [6] add(pkgs::Vector{Pkg.Types.PackageSpec})",
      "    @ Pkg.API /opt/julia-1.9.1/share/julia/stdlib/v1.9/Pkg/src/API.jl:145",
      "  [7] #add#25",
      "    @ /opt/julia-1.9.1/share/julia/stdlib/v1.9/Pkg/src/API.jl:144 [inlined]",
      "  [8] add",
      "    @ /opt/julia-1.9.1/share/julia/stdlib/v1.9/Pkg/src/API.jl:144 [inlined]",
      "  [9] #add#24",
      "    @ /opt/julia-1.9.1/share/julia/stdlib/v1.9/Pkg/src/API.jl:143 [inlined]",
      " [10] add(pkg::String)",
      "    @ Pkg.API /opt/julia-1.9.1/share/julia/stdlib/v1.9/Pkg/src/API.jl:143",
      " [11] top-level scope",
      "    @ In[10]:1"
     ]
    }
   ],
   "source": [
    "import Pkg; Pkg.add(\"IJuliaPortrayals\")"
   ]
  },
  {
   "cell_type": "code",
   "execution_count": null,
   "id": "2423737e-2957-42cc-89a3-0fcbca357885",
   "metadata": {},
   "outputs": [],
   "source": []
  }
 ],
 "metadata": {
  "kernelspec": {
   "display_name": "Julia 1.9.1",
   "language": "julia",
   "name": "julia-1.9"
  },
  "language_info": {
   "file_extension": ".jl",
   "mimetype": "application/julia",
   "name": "julia",
   "version": "1.9.1"
  }
 },
 "nbformat": 4,
 "nbformat_minor": 5
}
